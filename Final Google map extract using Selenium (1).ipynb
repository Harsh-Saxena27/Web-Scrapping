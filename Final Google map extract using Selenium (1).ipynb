{
 "cells": [
  {
   "cell_type": "code",
   "execution_count": 1,
   "id": "9eed0685",
   "metadata": {},
   "outputs": [],
   "source": [
    "from selenium import webdriver\n",
    "from parsel import Selector\n",
    "import time\n",
    "\n",
    "from selenium.webdriver.common.action_chains import ActionChains\n",
    "from selenium.webdriver.common.by import By"
   ]
  },
  {
   "cell_type": "code",
   "execution_count": 2,
   "id": "8c43cd2a",
   "metadata": {},
   "outputs": [],
   "source": [
    "chrome_options = webdriver.ChromeOptions()\n",
    "chrome_options.add_argument('--headless')\n",
    "chrome_options.add_argument('--no-sandbox')\n",
    "chrome_options.add_argument('--disable-dev-shm-usage')"
   ]
  },
  {
   "cell_type": "code",
   "execution_count": 3,
   "id": "6a6d4501",
   "metadata": {},
   "outputs": [
    {
     "name": "stderr",
     "output_type": "stream",
     "text": [
      "C:\\Users\\Harsh\\AppData\\Local\\Temp\\ipykernel_3128\\2955382482.py:1: DeprecationWarning: executable_path has been deprecated, please pass in a Service object\n",
      "  wd = webdriver.Chrome(\"C:\\Program Files (x86)\\chromedriver.exe\",options=chrome_options)\n"
     ]
    }
   ],
   "source": [
    "wd = webdriver.Chrome(\"C:\\Program Files (x86)\\chromedriver.exe\",options=chrome_options)"
   ]
  },
  {
   "cell_type": "code",
   "execution_count": 4,
   "id": "47f802a6",
   "metadata": {},
   "outputs": [],
   "source": [
    "wd.get(\"https://www.google.com/maps/search/toy+shop+110006\")\n",
    "scrollbar = wd.find_element(By.XPATH,'//div[contains(@aria-label, \"Results for\")]')\n",
    "ActionChains(wd).move_to_element(scrollbar).perform()"
   ]
  },
  {
   "cell_type": "code",
   "execution_count": 5,
   "id": "5ae95399",
   "metadata": {},
   "outputs": [],
   "source": [
    "results = []\n",
    "end = 0\n",
    "while end==0:\n",
    "  try:\n",
    "    element = wd.find_element(By.CLASS_NAME,'PbZDve')\n",
    "    end = 1\n",
    "  except:\n",
    "    elements = wd.find_elements(By.XPATH,'//div[contains(@aria-label, \"Results for\")]/div/div[./a]')\n",
    "    n = len(elements)\n",
    "    element = elements[n-1]\n",
    "    wd.execute_script(\"arguments[0].scrollIntoView(true);\", element)\n",
    "    time.sleep(5)\n",
    "page_content = wd.page_source\n",
    "response = Selector(page_content)\n",
    "for el in response.xpath('//div[contains(@aria-label, \"Results for\")]/div/div[./a]'):\n",
    "  results.append({\n",
    "      'link': el.xpath('./a/@href').extract_first(''),\n",
    "      'title': el.xpath('./a/@aria-label').extract_first('')\n",
    "  })"
   ]
  },
  {
   "cell_type": "code",
   "execution_count": 9,
   "id": "c63f8f33",
   "metadata": {},
   "outputs": [],
   "source": [
    "n=len(results)"
   ]
  },
  {
   "cell_type": "code",
   "execution_count": 7,
   "id": "a509207a",
   "metadata": {},
   "outputs": [],
   "source": [
    "import numpy as np\n",
    "import pandas as pd\n",
    "df = pd.DataFrame(results)"
   ]
  },
  {
   "cell_type": "code",
   "execution_count": 10,
   "id": "9c0feed2",
   "metadata": {},
   "outputs": [],
   "source": [
    "from bs4 import BeautifulSoup"
   ]
  },
  {
   "cell_type": "code",
   "execution_count": null,
   "id": "a597ca14",
   "metadata": {},
   "outputs": [],
   "source": []
  },
  {
   "cell_type": "code",
   "execution_count": 58,
   "id": "00b986d5",
   "metadata": {},
   "outputs": [],
   "source": [
    "a=[]\n",
    "b=[]\n",
    "c=[]\n",
    "\n",
    "for i in range(0,n):\n",
    "    url=df['link'][i]\n",
    "    wd.get(url)\n",
    "    data=wd.page_source\n",
    "    nxtpg=BeautifulSoup(data,'html.parser')\n",
    "    a.append(nxtpg.find('h1').text.strip())\n",
    "    b.append(nxtpg.find('div',class_='Io6YTe').text.strip())\n",
    "    c.append(nxtpg.find_all('div',class_='AeaXub')[2].text.strip())"
   ]
  },
  {
   "cell_type": "code",
   "execution_count": 81,
   "id": "e45e3fc3",
   "metadata": {},
   "outputs": [],
   "source": [
    "df = pd.DataFrame(list(zip(a,b,c)),columns=['name','address','contact'])"
   ]
  },
  {
   "cell_type": "code",
   "execution_count": 74,
   "id": "d0478a0b",
   "metadata": {},
   "outputs": [],
   "source": [
    "df=pd.DataFrame(data)"
   ]
  },
  {
   "cell_type": "code",
   "execution_count": null,
   "id": "5957ce0a",
   "metadata": {},
   "outputs": [],
   "source": [
    "filename='lead.xlsx'\n",
    "df.to_excel(filename)\n"
   ]
  },
  {
   "cell_type": "code",
   "execution_count": null,
   "id": "3ff96e35",
   "metadata": {},
   "outputs": [],
   "source": [
    "driver.quit()"
   ]
  }
 ],
 "metadata": {
  "kernelspec": {
   "display_name": "Python 3 (ipykernel)",
   "language": "python",
   "name": "python3"
  },
  "language_info": {
   "codemirror_mode": {
    "name": "ipython",
    "version": 3
   },
   "file_extension": ".py",
   "mimetype": "text/x-python",
   "name": "python",
   "nbconvert_exporter": "python",
   "pygments_lexer": "ipython3",
   "version": "3.10.5"
  }
 },
 "nbformat": 4,
 "nbformat_minor": 5
}
