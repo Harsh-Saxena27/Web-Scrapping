{
 "cells": [
  {
   "cell_type": "code",
   "execution_count": 10,
   "id": "81ced056",
   "metadata": {},
   "outputs": [],
   "source": [
    "from selenium.webdriver.common.by import By\n",
    "from selenium import webdriver\n",
    "from time import sleep"
   ]
  },
  {
   "cell_type": "code",
   "execution_count": 2,
   "id": "25398105",
   "metadata": {},
   "outputs": [
    {
     "name": "stderr",
     "output_type": "stream",
     "text": [
      "C:\\Users\\Harsh\\AppData\\Local\\Temp\\ipykernel_81248\\1386100492.py:5: DeprecationWarning: executable_path has been deprecated, please pass in a Service object\n",
      "  browser = webdriver.Chrome('chrome_path')\n"
     ]
    }
   ],
   "source": [
    "# Initialising the chrome driver path and initiate the chrome path using webdriver\n",
    "\n",
    "chrome_path = \"C:\\Program Files (x86)\\chromedriver.exe\"\n",
    "\n",
    "browser = webdriver.Chrome('chrome_path')\n",
    "\n",
    "browser.get('https://www.amazon.in')"
   ]
  },
  {
   "cell_type": "code",
   "execution_count": 53,
   "id": "491b087a",
   "metadata": {},
   "outputs": [],
   "source": [
    "browser.get('https://www.amazon.in')"
   ]
  },
  {
   "cell_type": "code",
   "execution_count": 54,
   "id": "9db25c4e",
   "metadata": {},
   "outputs": [],
   "source": [
    "#Select the search column and search icon \n",
    "\n",
    "input_search = browser.find_element(By.ID,'twotabsearchtextbox')\n",
    "search_button = browser.find_element(By.XPATH,\"(//input[@type='submit'])[1]\")\n"
   ]
  },
  {
   "cell_type": "code",
   "execution_count": 55,
   "id": "634df385",
   "metadata": {},
   "outputs": [],
   "source": [
    "# Enter the search key for searching \n",
    "input_search.send_keys('smart phone ')\n",
    "sleep(5)\n",
    "search_button.click()"
   ]
  },
  {
   "cell_type": "code",
   "execution_count": 45,
   "id": "f10a7e07",
   "metadata": {},
   "outputs": [],
   "source": [
    "#product_class =\"a-size-medium a-color-base a-text-normal\"\n",
    "\n",
    "next_button = browser.find_element(By.XPATH,\"(//a[@class='s-pagination-item s-pagination-next s-pagination-button s-pagination-separator'])\")"
   ]
  },
  {
   "cell_type": "code",
   "execution_count": 22,
   "id": "a906e8c6",
   "metadata": {},
   "outputs": [],
   "source": [
    "#product_class =\"a-size-medium a-color-base a-text-normal\""
   ]
  },
  {
   "cell_type": "code",
   "execution_count": 56,
   "id": "3d37ef84",
   "metadata": {},
   "outputs": [],
   "source": [
    "products=[]\n",
    "for i in range(10):\n",
    "    product = browser.find_elements(By.XPATH,\"(//a[@class='a-link-normal s-underline-text s-underline-link-text s-link-style a-text-normal'])\")\n",
    "    for p in product:\n",
    "        products.append(p.text)\n",
    "    \n",
    "    next_button = browser.find_element(By.XPATH,\"(//a[@class='s-pagination-item s-pagination-next s-pagination-button s-pagination-separator'])\") \n",
    "    next_button.click()\n",
    "    sleep(5)"
   ]
  },
  {
   "cell_type": "code",
   "execution_count": 57,
   "id": "1ee9f79b",
   "metadata": {},
   "outputs": [
    {
     "data": {
      "text/plain": [
       "199"
      ]
     },
     "execution_count": 57,
     "metadata": {},
     "output_type": "execute_result"
    }
   ],
   "source": [
    "len(products)"
   ]
  },
  {
   "cell_type": "code",
   "execution_count": 58,
   "id": "870416f2",
   "metadata": {},
   "outputs": [
    {
     "data": {
      "text/plain": [
       "['Samsung Galaxy M04 Light Green, 4GB RAM, 64GB Storage | Upto 8GB RAM with RAM Plus | MediaTek Helio P35 | 5000 mAh Battery',\n",
       " 'Samsung Galaxy M53 5G (Emerald Brown, 6GB, 128GB Storage) | 108MP | sAmoled+ 120Hz | 12GB RAM with RAM Plus | Travel Adapter to be Purchased Separately',\n",
       " 'Redmi A1 (Light Blue, 2GB RAM, 32GB Storage) | Segment Best AI Dual Cam | 5000mAh Battery | Leather Texture Design | Android 12',\n",
       " 'Redmi 9A Sport (Coral Green, 2GB RAM, 32GB Storage) | 2GHz Octa-core Helio G25 Processor | 5000 mAh Battery',\n",
       " 'Redmi 9 Activ (Carbon Black, 4GB RAM, 64GB Storage) | Octa-core Helio G35 | 5000 mAh Battery',\n",
       " 'Poco M3 Pro 5G (Cool Blue, 4GB RAM, 64GB Storage)',\n",
       " 'Redmi Note 9 Pro (Interstellar Black, 4GB RAM, 128GB Storage) - Latest 8nm Snapdragon 720G & Alexa Hands-Free',\n",
       " '',\n",
       " 'Samsung Galaxy M13 (Aqua Green, 6GB, 128GB Storage) | 6000mAh Battery | Upto 12GB RAM with RAM Plus',\n",
       " 'OPPO A31 (Mystery Black, 6GB RAM, 128GB Storage) with No Cost EMI/Additional Exchange Offers',\n",
       " 'Samsung Galaxy M13 (Aqua Green, 4GB, 64GB Storage) | 6000mAh Battery | Upto 8GB RAM with RAM Plus',\n",
       " 'Redmi Note 11 (Horizon Blue, 6GB RAM, 128GB Storage)|90Hz FHD+ AMOLED Display | Qualcomm® Snapdragon™ 680-6nm | 33W Charger Included',\n",
       " 'Redmi Note 11T 5G (Matte Black, 8GB RAM, 128GB ROM)| Dimensity 810 5G | 33W Pro Fast Charging | Charger Included | Additional Exchange Offers| Get 2 Months of YouTube Premium Free!',\n",
       " 'Vivo Y02 (Cosmic Grey, 3GB RAM, 32GB Storage) with No Cost EMI/Additional Exchange Offers',\n",
       " 'Nokia G60 5G with 6.58”, 120Hz Refresh Rate Display, 50MP Triple AI Rear Camera, 3 Years of Android OS & Security Updates and 2 Years Warranty | Black',\n",
       " 'realme narzo 50i (Carbon Black, 2GB RAM+32GB Storage) Octa Core Processor | 6.5\" inch Large Display',\n",
       " 'Redmi A1 (Light Green, 2GB RAM 32GB ROM) | Segment Best AI Dual Cam | 5000mAh Battery | Leather Texture Design | Android 12',\n",
       " 'Redmi 10A Sport (Slate Grey, 6GB RAM, 128GB Storage) | 2 Ghz Octa Cor Helio G25 | 5000 mAh Battery | Finger Print Sensor | Upto 8GB RAM with RAM Booster',\n",
       " 'realme narzo 50i (Mint Green, 2GB RAM+32GB Storage) Octa Core Processor | 6.5\" inch Large Display',\n",
       " 'Samsung Galaxy M13 (Midnight Blue, 4GB, 64GB Storage) | 6000mAh Battery | Upto 8GB RAM with RAM Plus',\n",
       " 'Nokia C01 Plus 4G, 5.45” HD+ Screen, Selfie Camera with Front Flash (Blue)',\n",
       " 'Samsung Galaxy M13 (Midnight Blue, 6GB, 128GB Storage) | 6000mAh Battery | Upto 12GB RAM with RAM Plus',\n",
       " 'Redmi Note 11 Pro + 5G (Stealth Black, 6GB RAM, 128GB Storage) | 67W Turbo Charge | 120Hz Super AMOLED Display | Additional Exchange Offers | Charger Included',\n",
       " 'Samsung Galaxy A04s (Copper, 4GB RAM, 64GB Storage)',\n",
       " 'Samsung Galaxy A04e Copper, 4GB RAM, 128GB Storage | Upto 8GB RAM with RAM Plus | MediaTek Helio P35 | 5000 mAh Battery',\n",
       " 'Samsung Galaxy M04 Dark Blue, 4GB RAM, 64GB Storage | Upto 8GB RAM with RAM Plus | MediaTek Helio P35 | 5000 mAh Battery',\n",
       " 'Samsung Galaxy M53 5G (Emerald Brown, 8GB, 128GB Storage) | 108MP | sAmoled+ 120Hz | 16GB RAM with RAM Plus | Travel Adapter to be Purchased Separately',\n",
       " 'Samsung Galaxy M13 (Stardust Brown, 6GB, 128GB Storage) | 6000mAh Battery | Upto 12GB RAM with RAM Plus',\n",
       " 'OnePlus Nord 2T 5G (Gray Shadow, 8GB RAM, 128GB Storage)',\n",
       " 'Redmi 10A Sport (Sea Blue, 6GB RAM, 128GB Storage) | 2 Ghz Octa Cor Helio G25 | 5000 mAh Battery | Finger Print Sensor | Upto 8GB RAM with RAM Booster',\n",
       " 'OnePlus Nord 2T 5G (Gray Shadow, 12GB Storage, 256GB Storage)',\n",
       " 'Redmi A1 (Black, 2GB RAM, 32GB Storage) | Segment Best AI Dual Cam | 5000mAh Battery | Leather Texture Design | Android 12',\n",
       " 'Redmi Note 11T 5G (Matte Black, 6GB RAM, 128GB ROM)| Dimensity 810 5G | 33W Pro Fast Charging | Charger Included | Additional Exchange Offers|Get 2 Months of YouTube Premium Free!',\n",
       " 'Redmi Note 11 Pro + 5G (Stealth Black, 8GB RAM, 256GB Storage) | 67W Turbo Charge | 120Hz Super AMOLED Display | Additional Exchange Offers | Charger Included',\n",
       " 'Redmi 11 Prime 5G (Thunder Black, 4GB RAM, 64GB Storage) | Prime Design | MTK Dimensity 700 | 50 MP Dual Cam | 5000mAh | 7 Band 5G',\n",
       " 'Vivo Y02 (Cosmic Grey, 3GB RAM, 32GB Storage) with No Cost EMI/Additional Exchange Offers',\n",
       " 'Samsung Galaxy A04s (Copper, 4GB RAM, 64GB Storage)',\n",
       " 'Xiaomi 11 Lite NE 5G (Jazz Blue 8GB RAM 128 GB Storage) | Slimmest (6.81mm) & Lightest (158g) 5G Smartphone | 10-bit AMOLED with Dolby Vision | SD 778 with 12 5G Bands',\n",
       " 'Nokia G21 Android Smartphone, Dual SIM, 3-Day Battery Life, 6GB RAM + 128GB Storage, 50MP Triple AI Camera | Nordic Blue',\n",
       " 'Samsung Galaxy M32 Prime Edition (Light Blue, 4GB RAM, 64GB)',\n",
       " 'Redmi K50i 5G (Stealth Black, 8GB RAM, 256GB Storage) | Flagship Mediatek Dimensity 8100 Processor | 144Hz Liquid FFS Display | Alexa Built-in',\n",
       " 'OnePlus Nord 2T 5G (Jade Fog, 12GB RAM, 256GB Storage)',\n",
       " 'Tecno Spark 9 (Sky Mirror, 6GB RAM,128GB Storage) | 11GB Expandable RAM | Helio G37 Gaming Processor',\n",
       " 'Redmi 10A (Charcoal Black, 4GB RAM, 64GB Storage) | 2 Ghz Octa Core Helio G25 | 5000 mAh Battery | Finger Print Sensor | Upto 5GB RAM with RAM Booster',\n",
       " 'iQOO Z6 44W (Raven Black, 6GB RAM, 128GB Storage) | 6.44\" FHD+ AMOLED Display | 50% Charge in just 27 mins | in-Display Fingerprint Scanning',\n",
       " 'Nokia G60 5G with 6.58”, 120Hz Refresh Rate Display, 50MP Triple AI Rear Camera, 3 Years of Android OS & Security Updates and 2 Years Warranty | Black',\n",
       " 'Samsung Galaxy A04e Copper, 4GB RAM, 128GB Storage | Upto 8GB RAM with RAM Plus | MediaTek Helio P35 | 5000 mAh Battery',\n",
       " 'Samsung Galaxy M04 Light Green, 4GB RAM, 64GB Storage | Upto 8GB RAM with RAM Plus | MediaTek Helio P35 | 5000 mAh Battery',\n",
       " 'Samsung Galaxy M53 5G (Emerald Brown, 6GB, 128GB Storage) | 108MP | sAmoled+ 120Hz | 12GB RAM with RAM Plus | Travel Adapter to be Purchased Separately',\n",
       " \"iQOO Z6 Lite 5G (Mystic Night, 4GB RAM, 64GB Storage) | World's First Snapdragon 4 Gen 1 | Best in-Segment 120Hz Refresh Rate | 5000mAh Battery | Travel Adapter to be Purchased Separately\",\n",
       " 'Redmi Note 11T 5G (Stardust White, 6GB RAM, 128GB ROM)| Dimensity 810 5G | 33W Pro Fast Charging | Charger Included | Additional Exchange Offers|Get 2 Months of YouTube Premium Free!',\n",
       " 'OPPO A15s (Fancy White, 4GB, 128GB Storage) AI Triple Camera | 6.52\" HD+ Screen | 2.3GHz Mediatek Helio P35 Octa Core Processor',\n",
       " 'Redmi Note 11 (Space Black, 4GB RAM, 64GB Storage)|90Hz FHD+ AMOLED Display | Qualcomm® Snapdragon™ 680-6nm | 33W Charger Included',\n",
       " 'Samsung Galaxy S20 FE 5G (Cloud Lavender, 8GB RAM, 128GB Storage) with No Cost EMI & Additional Exchange Offers',\n",
       " 'realme narzo 50i Prime (Dark Blue 4GB RAM+64GB Storage) Octa-core Processor | 5000 mAh Battery',\n",
       " 'iQOO vivo Z6 5G (Chromatic Blue, 8GB RAM, 128GB Storage) | Snapdragon 695-6nm Processor | 120Hz FHD+ Display | 5000mAh Battery',\n",
       " 'MI REDMI 9i Sport (Coral Green, 64 GB) (4 GB RAM)',\n",
       " 'Vivo Y02 (Orchid Blue, 3GB RAM, 32GB Storage) with No Cost EMI/Additional Exchange Offers',\n",
       " 'Nokia C31, 6.74” HD+ Display, 13+2+2 MP Rear & 5MP Front Google Camera, 3-Day Battery Life, Android 12 | Charcoal, 4+64GB',\n",
       " 'Redmi Note 10S (Frost White, 6GB RAM, 64GB Storage) - Super Amoled Display | 64 MP Quad Camera | 6 Month Free Screen Replacement (Prime only)|33W Charger Included',\n",
       " 'Samsung Galaxy M13 5G (Midnight Blue, 4GB, 64GB Storage) | 5000mAh Battery | Upto 8GB RAM with RAM Plus',\n",
       " 'Samsung Galaxy S20 FE 5G (Cloud Navy, 8GB RAM, 128GB Storage) with No Cost EMI & Additional Exchange Offers',\n",
       " \"iQOO Z6 Lite 5G (Stellar Green, 6GB RAM, 128GB Storage) | World's First Snapdragon 4 Gen 1 | Best in-Segment 120Hz Refresh Rate | 5000mAh Battery | Travel Adapter to be Purchased Separately\",\n",
       " 'Redmi 10A (Slate Grey, 4GB RAM, 64GB Storage) | 2 Ghz Octa Core Helio G25 | 5000 mAh Battery | Finger Print Sensor | Upto 5GB RAM with RAM Booster',\n",
       " 'POCO C31 (Royal Blue, 64 GB) (4 GB RAM)',\n",
       " 'Samsung Galaxy M04 Light Green, 4GB RAM, 64GB Storage | Upto 8GB RAM with RAM Plus | MediaTek Helio P35 | 5000 mAh Battery',\n",
       " 'Samsung Galaxy A23 Blue, 6GB RAM, 128GB Storage with No Cost EMI/Additional Exchange Offers',\n",
       " 'Samsung Galaxy A04s (Black, 4GB RAM, 64GB Storage)',\n",
       " 'IKALL Z1 Smartphone with 5.5 Inch Display (Android 8.1, 4GB RAM + 32GB Internal Memory) (Blue)',\n",
       " 'Samsung Galaxy M04 Light Green, 4GB RAM, 128GB Storage | Upto 8GB RAM with RAM Plus | MediaTek Helio P35 | 5000 mAh Battery',\n",
       " 'Samsung Galaxy M53 5G (Deep Ocean Blue, 6GB, 128GB Storage) | 108MP | sAmoled+ 120Hz | 12GB RAM with RAM Plus | Travel Adapter to be Purchased Separately',\n",
       " 'OnePlus Nord CE 2 Lite 5G (Black Dusk, 6GB RAM, 128GB Storage)',\n",
       " 'Tecno POVA 5G (8GB RAM,128GB Storage,Aether Black) | FHD+ Screen | 6000mAh | 50MP AI Triple Rear Camera',\n",
       " 'Samsung Galaxy M32 (Light Blue, 4GB RAM, 64GB | FHD+ sAMOLED 90Hz Display | 6000mAh Battery | 64MP Quad Camera',\n",
       " 'Redmi 11 Prime (Peppy Purple, 6GB RAM, 128GB Storage) | Prime Design | High Performance Helio G99 | 50 MP AI Triple Cam | 5000 mAh | 22.5W',\n",
       " 'Redmi Note 11 (Space Black, 6GB RAM, 128GB Storage)|90Hz FHD+ AMOLED Display | Qualcomm® Snapdragon™ 680-6nm | 33W Charger Included',\n",
       " 'Redmi Note 11T 5G (Aquamarine Blue, 6GB RAM, 128GB ROM)| Dimensity 810 5G | 33W Pro Fast Charging | Charger Included | Additional Exchange Offers| Get 2 Months of YouTube Premium Free!',\n",
       " 'Redmi Note 10S (Deep Sea Blue, 6GB RAM, 64GB Storage) - Super Amoled Display | 64 MP Quad Camera | 6 Month Free Screen Replacement (Prime only) |33W Charger Included',\n",
       " 'Samsung Galaxy M53 5G (Emerald Brown, 6GB, 128GB Storage) | 108MP | sAmoled+ 120Hz | 12GB RAM with RAM Plus | Travel Adapter to be Purchased Separately',\n",
       " 'Samsung Galaxy A04e Light Blue, 4GB RAM, 128GB Storage | Upto 8GB RAM with RAM Plus | MediaTek Helio P35 | 5000 mAh Battery',\n",
       " 'Samsung Galaxy A04 Black, 4GB RAM, 128GB Storage | Upto 8GB RAM with RAM Plus | MediaTek Helio P35 | 5000 mAh Battery I 50 MP Camera',\n",
       " 'Tecno Spark 8 Pro (Interstellar Black, 4GB RAM,64GB Storage) | 48MP Triple Camera | 33W Fast Charger',\n",
       " 'realme narzo 50A Prime (Flash Black, 4GB RAM+128GB Storage) FHD+ Display | 50MP AI Triple Camera (No Charger Variant)',\n",
       " 'Vivo Y16 (Drizzling Gold, 4GB RAM, 64GB Storage) with No Cost EMI/Additional Exchange Offers',\n",
       " 'Nokia C01 Plus 4G, 5.45” HD+ Screen, Selfie Camera with Front Flash (Grey)',\n",
       " 'Samsung Galaxy M13 (Stardust Brown, 4GB, 64GB Storage) | 6000mAh Battery | Upto 8GB RAM with RAM Plus',\n",
       " 'iQOO Neo 6 5G (Dark Nova, 12GB RAM, 256GB Storage) | Snapdragon® 870 5G | 80W FlashCharge',\n",
       " 'Redmi 10 (Caribbean Green, 4GB RAM, 64GB Storage)',\n",
       " 'Samsung Galaxy S20 FE 5G (Cloud Mint, 8GB RAM, 128GB Storage)',\n",
       " 'Samsung Galaxy A04s (Green, 4GB RAM, 64GB Storage)',\n",
       " 'Samsung Galaxy A04 Green, 4GB RAM, 128GB Storage | Upto 8GB RAM with RAM Plus | MediaTek Helio P35 | 5000 mAh Battery I 50 MP Camera',\n",
       " 'Samsung Galaxy M04 Dark Blue, 4GB RAM, 128GB Storage | Upto 8GB RAM with RAM Plus | MediaTek Helio P35 | 5000 mAh Battery',\n",
       " 'Samsung Galaxy M53 5G (Mystique Green, 8GB, 128GB Storage) | 108MP | sAmoled+ 120Hz | 16GB RAM with RAM Plus | Travel Adapter to be Purchased Separately',\n",
       " 'iQOO 9 SE 5G (Space Fusion, 8GB RAM, 128GB Storage) | Qualcomm Snapdragon 888 | 66W Flash Charge',\n",
       " 'Redmi 11 Prime 5G (Chrome Silver, 6GB RAM, 128GB Storage) | Prime Design | MTK Dimensity 700 | 50 MP Dual Cam | 5000mAh | 7 Band 5G',\n",
       " 'Redmi 11 Prime 5G (Chrome Silver, 4GB RAM 64GB ROM) | Prime Design | MTK Dimensity 700 | 50 MP Dual Cam | 5000mAh | 7 Band 5G',\n",
       " 'iQOO Z6 Pro 5G (Legion Sky, 8GB RAM, 128GB Storage) | Snapdragon 778G 5G | 66W FlashCharge | 1300 nits Peak Brightness | HDR10+',\n",
       " 'realme narzo 50i Prime (Mint Green 3GB RAM+32GB Storage) Octa-core Processor | 5000 mAh Battery',\n",
       " 'Nokia G21 Android Smartphone, Dual SIM, 3-Day Battery Life, 4GB RAM + 64GB Storage, 50MP Triple AI Camera | Nordic Blue',\n",
       " 'Tecno Spark 9 (Infinity Black, 4GB RAM,64GB Storage) | 7GB Expandable RAM | Helio G37 Gaming Processor',\n",
       " 'Tecno Spark 9 (Sky Mirror, 4GB RAM,64GB Storage) | 7GB Expandable RAM | Helio G37 Gaming Processor',\n",
       " 'Samsung Galaxy A04 (Black, 4GB RAM, 64GB Storage) Upto 8GB RAM with RAM Plus | MediaTek Helio P35 | 5000 mAh Battery |',\n",
       " 'Samsung Galaxy A04e Copper, 3GB RAM, 64GB Storage | Upto 8GB RAM with RAM Plus | MediaTek Helio P35 | 5000 mAh Battery',\n",
       " 'realme narzo 50 (Speed Blue, 6GB RAM+128GB Storage) Helio G96 Processor | 50MP AI Triple Camera | 120Hz Ultra Smooth Display',\n",
       " 'realme Narzo 50 Pro 5G (Hyper Blue 6GB RAM+128GB Storage) Dimensity 920 5G Processor |90Hz Super AMOLED Display',\n",
       " 'iQOO Neo 6 5G (Dark Nova, 8GB RAM, 128GB Storage) | Snapdragon® 870 5G | 80W FlashCharge',\n",
       " 'Redmi 10 Power (Sporty Orange, 8GB RAM, 128GB Storage)',\n",
       " 'iQOO vivo Z6 5G (Dynamo Black, 4GB RAM, 128GB Storage) | Snapdragon 695-6nm Processor | 120Hz FHD+ Display | 5000mAh Battery | Travel Adapter to be Purchased Separately',\n",
       " 'Xiaomi 11 Lite NE 5G (Vinyl Black 8GB RAM 128 GB Storage) | Slimmest (6.81mm) & Lightest (158g) 5G Smartphone | 10-bit AMOLED with Dolby Vision | SD 778 with 12 5G Bands',\n",
       " 'Redmi 9A Sport (Metallic Blue, 2GB RAM, 32GB Storage) | 2GHz Octa-core Helio G25 Processor | 5000 mAh Battery',\n",
       " 'iQOO Neo 6 5G (Cyber Rage, 8GB RAM, 128GB Storage) | Snapdragon® 870 5G | 80W FlashCharge',\n",
       " 'Samsung Galaxy A04 Copper, 4GB RAM, 64GB Storage | Upto 8GB RAM with RAM Plus | MediaTek Helio P35 | 5000 mAh Battery I 50 MP Camera',\n",
       " 'Samsung Galaxy A04 Green, 4GB RAM, 64GB Storage | Upto 8GB RAM with RAM Plus | MediaTek Helio P35 | 5000 mAh Battery I 50 MP Camera',\n",
       " 'Samsung Galaxy M53 5G (Deep Ocean Blue, 8GB, 128GB Storage) | 108MP | sAmoled+ 120Hz | 16GB RAM with RAM Plus | Travel Adapter to be Purchased Separately',\n",
       " 'Samsung Galaxy A04e Light Blue, 3GB RAM, 64GB Storage | Upto 8GB RAM with RAM Plus | MediaTek Helio P35 | 5000 mAh Battery',\n",
       " 'Samsung Galaxy M53 5G (Mystique Green, 8GB, 128GB Storage) | 108MP | sAmoled+ 120Hz | 16GB RAM with RAM Plus | Travel Adapter to be Purchased Separately',\n",
       " 'Tecno Spark 8T (Atlantic Blue, 4GB RAM,64GB Storage)| 50MP AI Camera | 7GB Expandable RAM',\n",
       " 'Nokia 2.1 (Blue-Copper)',\n",
       " 'Redmi Note 11S (Space Black, 8GB RAM, 128GB Storage)|108MP AI Quad Camera | 90 Hz FHD+ AMOLED Display | 33W Charger Included | Additional Exchange Offers| Get 2 Months of YouTube Premium Free!',\n",
       " 'Redmi K50i 5G (Phantom Blue, 8GB RAM, 256GB Storage)| Flagship Mediatek Dimensity 8100 Processor | 144Hz Liquid FFS Display',\n",
       " 'Oppo F21s Pro 5G (Dawnlight Gold, 8GB RAM, 128 Storage) with No Cost EMI/Additional Exchange Offers',\n",
       " 'Redmi 9A Sport (Carbon Black, 2GB RAM, 32GB Storage) | 2GHz Octa-core Helio G25 Processor | 5000 mAh Battery',\n",
       " 'Redmi Note 10 Pro Max (Vintage Bronze, 6GB RAM, 128GB Storage) -108MP Quad Camera | 120Hz Super Amoled Display',\n",
       " 'IKALL K2 Smartphone with 5 Inch Display (Dual Sim + 4G Network) (1GB RAM + 8GB Internal Memory) (Black)',\n",
       " 'LYF Water 10 (Black)',\n",
       " 'Xiaomi 12 Pro | 5G (Noir Black, 8GB RAM, 256GB Storage) | Snapdragon 8 Gen 1 | 50+50+50MP Flagship Cameras (OIS) | 10bit 2K+ Curved AMOLED Display | Sound by Harman Kardon',\n",
       " 'Redmi 9A Sport (Coral Green, 3GB RAM, 32GB Storage) | 2GHz Octa-core Helio G25 Processor | 5000 mAh Battery',\n",
       " 'realme narzo 50 5G (Hyper Black, 4GB RAM+64GB Storage) Dimensity 810 5G Processor | 48MP Ultra HD Camera',\n",
       " 'realme narzo 50i (Mint Green, 4GB RAM+64GB Storage) Octa Core Processor | 6.5\" inch Large Display',\n",
       " 'Samsung Galaxy M33 5G (Emerald Brown, 6GB, 128GB Storage) | 6000mAh Battery | Upto 12GB RAM with RAM Plus | Travel Adapter to be Purchased Separately',\n",
       " 'JioFi Next 32 GB, 2 GB RAM, Blue Smartphone',\n",
       " 'Samsung Galaxy M53 5G (Deep Ocean Blue, 6GB, 128GB Storage) | 108MP | sAmoled+ 120Hz | 12GB RAM with RAM Plus | Travel Adapter to be Purchased Separately',\n",
       " 'Samsung Galaxy M53 5G (Deep Ocean Blue, 8GB, 128GB Storage) | 108MP | sAmoled+ 120Hz | 16GB RAM with RAM Plus | Travel Adapter to be Purchased Separately',\n",
       " 'IKALL K2 Smartphone with 5 Inch Display (Dual Sim + 4G Network) (1GB RAM + 8GB Internal Memory) (Gold)',\n",
       " 'Samsung Galaxy M04 Dark Blue, 4GB RAM, 128GB Storage | Upto 8GB RAM with RAM Plus | MediaTek Helio P35 | 5000 mAh Battery',\n",
       " 'MOTOROLA e32s (Slate Gray, 4GB RAM 64GB Storage)',\n",
       " 'Tecno Phantom X Iceland Blue (8GB RAM,256GB Storage) | Flexible AMOLED Screen | 50MP Camera | 48MP+8MP Selfie',\n",
       " \"Xiaomi 11T Pro 5G Hyperphone (Meteorite Black, 8GB RAM, 256GB Storage) |SD 888|120W HyperCharge|Segment's only Phone with Dolby Vision+Dolby Atmos\",\n",
       " 'MOTOROLA e32s (Misty Silver, 3GB RAM 32GB Storage)',\n",
       " 'iQOO 7 5G (Storm Black, 12GB RAM, 256GB Storage) | 4GB Extended RAM',\n",
       " 'Redmi 10 Prime (Astral White 6GB RAM 128GB ROM |Helio G88 with extendable RAM Upto 2GB |FHD+ 90Hz Adaptive Sync Display)',\n",
       " 'Samsung Galaxy M13 5G (Stardust Brown, 4GB, 64GB Storage) | 5000mAh Battery | Upto 8GB RAM with RAM Plus',\n",
       " 'Samsung Galaxy A23 Peach, 8GB RAM, 128GB Storage with No Cost EMI/Additional Exchange Offers',\n",
       " '(Renewed) Nokia C01 Plus 4G, 5.45” HD+ Screen, Selfie Camera with Front Flash | 32GB Storage (Blue)',\n",
       " 'Redmi 10A (Slate Grey, 3GB RAM, 32GB Storage) | 2 Ghz Octa Core Helio G25 | 5000 mAh Battery | Finger Print Sensor | Upto 5GB RAM with RAM Booster',\n",
       " 'Nokia G21 Android Smartphone, Dual SIM, 3-Day Battery Life, 6GB RAM + 128GB Storage, 50MP Triple AI Camera | Dusk',\n",
       " 'Vivo V23 5G (Stardust Black, 8GB RAM 128GB Storage)',\n",
       " 'OnePlus Nord CE 2 Lite 5G (Blue Tide, 6GB RAM, 128GB Storage)',\n",
       " 'Samsung Galaxy A33 5G Light Blue, 6GB RAM, 128GB Storage',\n",
       " 'Redmi Note 11 (Space Black, 6GB RAM, 64GB Storage) | 90Hz FHD+ AMOLED Display | Qualcomm® Snapdragon™ 680-6nm | 33W Charger Included',\n",
       " 'IKALL K2 Smartphone with 5 Inch Display (Dual Sim + 4G Network) (1GB RAM + 8GB Internal Memory) (Silver)',\n",
       " 'realme narzo 50i (Carbon Black, 4GB RAM+64GB Storage) Octa Core Processor | 6.5\" inch Large Display',\n",
       " 'Samsung Galaxy A33 5G Light Blue, 6GB RAM, 128GB Storage',\n",
       " 'Redmi Note 11 (Space Black, 6GB RAM, 64GB Storage) | 90Hz FHD+ AMOLED Display | Qualcomm® Snapdragon™ 680-6nm | 33W Charger Included',\n",
       " 'MI REDMI 9i Sport (Carbon Black, 64 GB) (4 GB RAM)',\n",
       " 'Lava Blaze 5G (Glass Blue, 4GB RAM, UFS 2.2 128GB Storage) | 5G Ready | 50MP AI Triple Camera | 5000 mAh Battery',\n",
       " 'Samsung Galaxy M04 Dark Blue, 4GB RAM, 64GB Storage | Upto 8GB RAM with RAM Plus | MediaTek Helio P35 | 5000 mAh Battery',\n",
       " 'iQOO Z6 Pro 5G (Legion Sky, 12GB RAM, 256GB Storage) | Snapdragon 778G 5G | 66W FlashCharge | 1300 nits Peak Brightness | HDR10+',\n",
       " 'Google Pixel 6a 5G (Charcoal, 6GB RAM, 128GB Storage)',\n",
       " 'Samsung Galaxy M32 5G (Sky Blue, 8GB RAM, 128GB Storage) | Dimensity 720 Processor | 5000mAh Battery| Knox Security',\n",
       " \"iQOO Z6 Lite 5G (Mystic Night, 6GB RAM, 128GB Storage) | World's First Snapdragon 4 Gen 1 | Best in-Segment 120Hz Refresh Rate | 5000mAh Battery | Travel Adapter to be Purchased Separately\",\n",
       " 'POCO C31 (Shadow Gray, 64 GB) (4 GB RAM)',\n",
       " 'Redmi Note 11 (Starburst White, 6GB RAM, 128GB Storage)|90Hz FHD+ AMOLED Display | Qualcomm® Snapdragon™ 680-6nm | 33W Charger Included',\n",
       " 'realme narzo 30 5G (Racing Silver, 6GB RAM, 128GB Storage) with No Cost EMI/Additional Exchange Offers',\n",
       " 'Realme C30 (Lake Blue, 2GB RAM, 32GB Storage)',\n",
       " 'Redmi 10 Prime (Phantom Black 6GB RAM 128GB ROM |Helio G88 with extendable RAM Upto 2GB |FHD+ 90Hz Adaptive Sync Display)',\n",
       " 'iQOO 9 SE 5G (Space Fusion, 12GB RAM, 256GB Storage) | Qualcomm Snapdragon 888 | 66W Flash Charge',\n",
       " 'realme C33 (Night Sea, 4GB RAM, 64GB Storage)',\n",
       " 'JioFi Jio Phone Next 32 GB ROM, 2 GB RAM, Blue, Smartphone',\n",
       " 'Redmi Note 11 Pro (Stealth Black, 8GB RAM, 128GB Storage)| 67W Turbo Charge | 120Hz Super AMOLED Display | Charger Included | Get 2 Months of YouTube Premium Free!',\n",
       " 'Nokia C21 Plus Android Smartphone, Dual SIM, 3-Day Battery Life, 4GB RAM + 64GB Storage, 13MP Dual Camera with HDR | Dark Cyan',\n",
       " 'iQOO Neo 6 5G (Maverick Orange, 12GB RAM, 256GB Storage) | Snapdragon® 870 5G | 80W FlashCharge',\n",
       " 'POCO M4 5G (Cool Blue, 4GB RAM 64GB RAM)',\n",
       " 'Vivo Y16 (Drizzling Gold, 3GB RAM, 64GB Storage) with No Cost EMI/Additional Exchange Offers',\n",
       " 'OnePlus 10R 5G (Forest Green, 8GB RAM, 128GB Storage, 80W SuperVOOC)',\n",
       " 'OnePlus 10 Pro 5G (Emerald Forest, 12GB RAM, 256GB Storage)',\n",
       " 'LYF Earth 2 4G LTE Smart Phone (Gold)',\n",
       " 'realme narzo 50A (Oxygen Blue , 4GB RAM + 64 GB Storage) Helio G85 Processor | 6000 mAh Battery',\n",
       " 'realme narzo 50 5G (Hyper Blue, 6GB RAM+128GB Storage) Dimensity 810 5G Processor | 48MP Ultra HD Camera',\n",
       " 'Samsung Galaxy M32 (Black, 4GB RAM, 64GB | FHD+ sAMOLED 90Hz Display | 6000mAh Battery | 64MP Quad Camera',\n",
       " 'Redmi 10A (Sea Blue, 4GB RAM, 64GB Storage) | 2 Ghz Octa Core Helio G25 | 5000 mAh Battery | Finger Print Sensor | Upto 5GB RAM with RAM Booster',\n",
       " 'OnePlus 10T 5G (Moonstone Black, 12GB RAM, 256GB Storage)',\n",
       " 'Tecno Spark 8 Pro (Turquoise Cyan, 4GB RAM,64GB Storage) | 48MP Triple Camera | 33W Fast Charger',\n",
       " 'POCO X4 Pro 5G (Laser Black, 6GB RAM 128GB Storage)',\n",
       " 'Redmi Note 9 Pro (Interstellar Black, 4GB RAM, 64GB Storage)- Latest 8nm Snapdragon 720G & Alexa Hands-Free Capable',\n",
       " 'Vivo Y15C (Wave Green, 3GB RAM, 64GB Storage) with No Cost EMI/Additional Exchange Offers',\n",
       " 'Redmi Note 11 Pro + 5G (Phantom White, 6GB RAM, 128GB Storage) | 67W Turbo Charge | 120Hz Super AMOLED Display | Additional Exchange Offers | Charger Included',\n",
       " 'Samsung Galaxy M33 5G (Deep Ocean Blue, 8GB, 128GB Storage) | 6000mAh Battery | Upto 16GB RAM with RAM Plus | Travel Adapter to be Purchased Separately',\n",
       " 'Tecno Pop 5 LTE (Turquoise Cyan, 2GB RAM,32GB Storage) | Front Flash | 8MP Dual Camera',\n",
       " 'OPPO A74 5G (Fluid Black, 6GB RAM, 128GB Storage) with No Cost EMI/Additional Exchange Offers',\n",
       " 'Nokia 2660 4G Flip Smartphone Black',\n",
       " 'IKALL Z9 Smartphone with 6 Inch Display Android 10(3GB RAM, 32GB Internal Memory) (Blue)',\n",
       " 'Tecno POP 6 Pro (Polar Black, 2GB RAM,32GB Storage) | Front Flash | 8MP Dual Camera',\n",
       " 'Redmi 11 Prime 5G (Meadow Green, 4GB RAM 64GB ROM) | Prime Design | MTK Dimensity 700 | 50 MP Dual Cam | 5000mAh | 7 Band 5G',\n",
       " 'Vivo Y35 (Dawn Gold, 8GB RAM, 128GB Storage) with No Cost EMI/Additional Exchange Offers',\n",
       " 'Motorola G62 5G (8GB, 128GB) (Midnight Gray)',\n",
       " '(Renewed) Samsung Galaxy S20 FE 5G (Cloud Navy, 8GB RAM, 128GB Storage) without offers',\n",
       " 'Tecno Pop 5 LTE (Deepsea Luster, 2GB RAM,32GB Storage) | Front Flash | 8MP Dual Camera',\n",
       " 'Redmi K20 Pro (Pearl White, 6GB RAM, 128GB Storage)']"
      ]
     },
     "execution_count": 58,
     "metadata": {},
     "output_type": "execute_result"
    }
   ],
   "source": [
    "products"
   ]
  },
  {
   "cell_type": "code",
   "execution_count": null,
   "id": "731ed2a1",
   "metadata": {},
   "outputs": [],
   "source": []
  }
 ],
 "metadata": {
  "kernelspec": {
   "display_name": "Python 3 (ipykernel)",
   "language": "python",
   "name": "python3"
  },
  "language_info": {
   "codemirror_mode": {
    "name": "ipython",
    "version": 3
   },
   "file_extension": ".py",
   "mimetype": "text/x-python",
   "name": "python",
   "nbconvert_exporter": "python",
   "pygments_lexer": "ipython3",
   "version": "3.10.5"
  }
 },
 "nbformat": 4,
 "nbformat_minor": 5
}
