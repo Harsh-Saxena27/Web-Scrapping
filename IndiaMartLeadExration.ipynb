{
 "cells": [
  {
   "cell_type": "code",
   "execution_count": 1,
   "id": "bba71f48",
   "metadata": {},
   "outputs": [],
   "source": [
    "from selenium import webdriver\n",
    "from parsel import Selector\n",
    "import time\n",
    "\n",
    "from selenium.webdriver.common.action_chains import ActionChains\n",
    "from selenium.webdriver.common.by import By\n",
    "from bs4 import BeautifulSoup"
   ]
  },
  {
   "cell_type": "code",
   "execution_count": 1,
   "id": "726dd5ac",
   "metadata": {},
   "outputs": [],
   "source": []
  },
  {
   "cell_type": "code",
   "execution_count": 2,
   "id": "98c17eae",
   "metadata": {},
   "outputs": [],
   "source": [
    "chrome_options=webdriver.ChromeOptions()\n",
    "chrome_options.add_argument('--headless')\n",
    "chrome_options.add_argument('--no-sandbox')\n",
    "chrome_options.add_argument('--disable-dev-shm-usage')\n",
    "chrome_options.add_argument('--disable-popup-blocking')"
   ]
  },
  {
   "cell_type": "code",
   "execution_count": 3,
   "id": "2d88547f",
   "metadata": {},
   "outputs": [
    {
     "name": "stderr",
     "output_type": "stream",
     "text": [
      "C:\\Users\\Harsh\\AppData\\Local\\Temp\\ipykernel_82416\\3493787804.py:1: DeprecationWarning: executable_path has been deprecated, please pass in a Service object\n",
      "  driver = webdriver.Chrome('C:\\Program Files (x86)\\chromedriver.exe',options=chrome_options)\n"
     ]
    }
   ],
   "source": [
    "driver = webdriver.Chrome('C:\\Program Files (x86)\\chromedriver.exe',options=chrome_options)"
   ]
  },
  {
   "cell_type": "code",
   "execution_count": 4,
   "id": "ff4bf6c6",
   "metadata": {},
   "outputs": [],
   "source": [
    "driver.get('https://www.indiamart.com/')"
   ]
  },
  {
   "cell_type": "code",
   "execution_count": 5,
   "id": "1141ff3c",
   "metadata": {},
   "outputs": [],
   "source": [
    "search_box = driver.find_element(By.ID,\"search-input\")\n",
    "search_box.send_keys('Toys shops in Delhi')\n",
    "\n",
    "search_button = driver.find_element(By.ID,\"searchBtn\").click()\n",
    "time.sleep(5)"
   ]
  },
  {
   "cell_type": "code",
   "execution_count": 19,
   "id": "e0795af8",
   "metadata": {},
   "outputs": [],
   "source": [
    "scrollbar = driver.find_element(By.XPATH,'/html/body/div[1]/div/div[2]')\n",
    "ActionChains(driver).move_to_element(scrollbar).perform()"
   ]
  },
  {
   "cell_type": "code",
   "execution_count": 20,
   "id": "27dcb068",
   "metadata": {},
   "outputs": [],
   "source": [
    "page = driver.page_source\n",
    "#response = Selector(page_source)\n",
    "soup=BeautifulSoup(page,'html.parser')"
   ]
  },
  {
   "cell_type": "code",
   "execution_count": 21,
   "id": "3889b345",
   "metadata": {},
   "outputs": [],
   "source": [
    "#best approach for extract href\n",
    "link =[]\n",
    "for i in soup.find_all(\"a\",class_=\"prd-name\"):\n",
    "     link.append({\n",
    "         'link':i.get('href')})\n"
   ]
  },
  {
   "cell_type": "code",
   "execution_count": 22,
   "id": "03bab3d2",
   "metadata": {},
   "outputs": [
    {
     "data": {
      "text/plain": [
       "[{'link': 'https://www.indiamart.com/deconscompany/?pos=1&kwd=toys shops&tags=||Pref||0||product'},\n",
       " {'link': 'https://www.indiamart.com/punkelglobaltraders/?pos=2&kwd=toys shops&tags=||||0|Price|product'},\n",
       " {'link': 'https://www.indiamart.com/wieners-delhi/?pos=3&kwd=toys shops&tags=|||Loc|0||product'},\n",
       " {'link': 'https://www.indiamart.com/poddar-cycle-works/?pos=4&kwd=toys shops&tags=|||Loc|0||product'},\n",
       " {'link': 'https://www.indiamart.com/toys-shop/?pos=5&kwd=toys shops&tags=||||0||product'},\n",
       " {'link': 'https://www.indiamart.com/the-momoz-hub-delhi/?pos=6&kwd=toys shops&tags=|||Loc|0||product'},\n",
       " {'link': 'https://www.indiamart.com/kalka-baby-toys/?pos=7&kwd=toys shops&tags=|||Loc|0||product'},\n",
       " {'link': 'https://www.indiamart.com/neelkanth-stationers-booksellers/?pos=8&kwd=toys shops&tags=|||Loc|0||product'},\n",
       " {'link': 'https://www.indiamart.com/new-sports-world/?pos=9&kwd=toys shops&tags=||||0||product'},\n",
       " {'link': 'https://www.indiamart.com/aone-gift-gallery/?pos=10&kwd=toys shops&tags=|||Loc|0||product'},\n",
       " {'link': 'https://www.indiamart.com/toy-shop-dot-in/?pos=11&kwd=toys shops&tags=|||Loc|0||company'},\n",
       " {'link': 'https://www.indiamart.com/gift-bazaar-delhi/?pos=12&kwd=toys shops&tags=|||Loc|0||product'},\n",
       " {'link': 'https://www.indiamart.com/gauris-gifts-toys/?pos=13&kwd=toys shops&tags=|||Loc|0||product'},\n",
       " {'link': 'https://www.indiamart.com/celebration-gift-house/?pos=14&kwd=toys shops&tags=|||Loc|0||product'}]"
      ]
     },
     "execution_count": 22,
     "metadata": {},
     "output_type": "execute_result"
    }
   ],
   "source": [
    "link"
   ]
  },
  {
   "cell_type": "code",
   "execution_count": 23,
   "id": "5fe4fca4",
   "metadata": {},
   "outputs": [
    {
     "data": {
      "text/html": [
       "<div>\n",
       "<style scoped>\n",
       "    .dataframe tbody tr th:only-of-type {\n",
       "        vertical-align: middle;\n",
       "    }\n",
       "\n",
       "    .dataframe tbody tr th {\n",
       "        vertical-align: top;\n",
       "    }\n",
       "\n",
       "    .dataframe thead th {\n",
       "        text-align: right;\n",
       "    }\n",
       "</style>\n",
       "<table border=\"1\" class=\"dataframe\">\n",
       "  <thead>\n",
       "    <tr style=\"text-align: right;\">\n",
       "      <th></th>\n",
       "      <th>link</th>\n",
       "    </tr>\n",
       "  </thead>\n",
       "  <tbody>\n",
       "    <tr>\n",
       "      <th>0</th>\n",
       "      <td>https://www.indiamart.com/deconscompany/?pos=1...</td>\n",
       "    </tr>\n",
       "    <tr>\n",
       "      <th>1</th>\n",
       "      <td>https://www.indiamart.com/punkelglobaltraders/...</td>\n",
       "    </tr>\n",
       "    <tr>\n",
       "      <th>2</th>\n",
       "      <td>https://www.indiamart.com/wieners-delhi/?pos=3...</td>\n",
       "    </tr>\n",
       "    <tr>\n",
       "      <th>3</th>\n",
       "      <td>https://www.indiamart.com/poddar-cycle-works/?...</td>\n",
       "    </tr>\n",
       "    <tr>\n",
       "      <th>4</th>\n",
       "      <td>https://www.indiamart.com/toys-shop/?pos=5&amp;kwd...</td>\n",
       "    </tr>\n",
       "  </tbody>\n",
       "</table>\n",
       "</div>"
      ],
      "text/plain": [
       "                                                link\n",
       "0  https://www.indiamart.com/deconscompany/?pos=1...\n",
       "1  https://www.indiamart.com/punkelglobaltraders/...\n",
       "2  https://www.indiamart.com/wieners-delhi/?pos=3...\n",
       "3  https://www.indiamart.com/poddar-cycle-works/?...\n",
       "4  https://www.indiamart.com/toys-shop/?pos=5&kwd..."
      ]
     },
     "execution_count": 23,
     "metadata": {},
     "output_type": "execute_result"
    }
   ],
   "source": [
    "import pandas as pd\n",
    "df = pd.DataFrame(link)\n",
    "len(link)\n",
    "df.head()"
   ]
  },
  {
   "cell_type": "code",
   "execution_count": 33,
   "id": "488d1d7c",
   "metadata": {},
   "outputs": [],
   "source": [
    "content = []\n",
    "for i in range(0,len(link)):\n",
    "    url = df['link'][i]\n",
    "    driver.get(url)\n",
    "    data = driver.page_source\n",
    "    soup_href=BeautifulSoup(data,'html.parser')\n",
    "    content.append(\n",
    "    {\n",
    "        'Name': soup_href.find('span',class_=\"FM_Db FM_m13 FM_f20 FM_bo FM_lh05\").text.strip(),\n",
    "        'Address' : soup_href.find('p',class_=\"FM_f14 FM_Lsp4 Fm_lh10 FM_m3 FM_fl\").text.strip()\n",
    "    })"
   ]
  },
  {
   "cell_type": "code",
   "execution_count": 34,
   "id": "3b53431f",
   "metadata": {},
   "outputs": [],
   "source": [
    "df1=pd.DataFrame(content)"
   ]
  },
  {
   "cell_type": "code",
   "execution_count": 38,
   "id": "9ec38cdf",
   "metadata": {},
   "outputs": [
    {
     "data": {
      "text/html": [
       "<div>\n",
       "<style scoped>\n",
       "    .dataframe tbody tr th:only-of-type {\n",
       "        vertical-align: middle;\n",
       "    }\n",
       "\n",
       "    .dataframe tbody tr th {\n",
       "        vertical-align: top;\n",
       "    }\n",
       "\n",
       "    .dataframe thead th {\n",
       "        text-align: right;\n",
       "    }\n",
       "</style>\n",
       "<table border=\"1\" class=\"dataframe\">\n",
       "  <thead>\n",
       "    <tr style=\"text-align: right;\">\n",
       "      <th></th>\n",
       "      <th>Name</th>\n",
       "      <th>Address</th>\n",
       "    </tr>\n",
       "  </thead>\n",
       "  <tbody>\n",
       "    <tr>\n",
       "      <th>9</th>\n",
       "      <td>A-One Gift Gallery</td>\n",
       "      <td>A-One Gift GalleryA-1, Shop No.20, Main Road, ...</td>\n",
       "    </tr>\n",
       "    <tr>\n",
       "      <th>10</th>\n",
       "      <td>Toy Shop Dot In</td>\n",
       "      <td>Toy Shop Dot InTri Nagar, Delhi-110035, India</td>\n",
       "    </tr>\n",
       "    <tr>\n",
       "      <th>11</th>\n",
       "      <td>Gift Bazaar</td>\n",
       "      <td>Gift BazaarShop No. 3/46, Bhogal Main Market, ...</td>\n",
       "    </tr>\n",
       "    <tr>\n",
       "      <th>12</th>\n",
       "      <td>Gauri's Gifts &amp; Toys</td>\n",
       "      <td>Gauri's Gifts &amp; ToysPocket E-16/286-287, Groun...</td>\n",
       "    </tr>\n",
       "    <tr>\n",
       "      <th>13</th>\n",
       "      <td>Celebration Gift House</td>\n",
       "      <td>Celebration Gift HouseH-4b, Main road, Kalkaji...</td>\n",
       "    </tr>\n",
       "  </tbody>\n",
       "</table>\n",
       "</div>"
      ],
      "text/plain": [
       "                      Name                                            Address\n",
       "9       A-One Gift Gallery  A-One Gift GalleryA-1, Shop No.20, Main Road, ...\n",
       "10         Toy Shop Dot In      Toy Shop Dot InTri Nagar, Delhi-110035, India\n",
       "11             Gift Bazaar  Gift BazaarShop No. 3/46, Bhogal Main Market, ...\n",
       "12    Gauri's Gifts & Toys  Gauri's Gifts & ToysPocket E-16/286-287, Groun...\n",
       "13  Celebration Gift House  Celebration Gift HouseH-4b, Main road, Kalkaji..."
      ]
     },
     "execution_count": 38,
     "metadata": {},
     "output_type": "execute_result"
    }
   ],
   "source": [
    "df1.tail()"
   ]
  },
  {
   "cell_type": "code",
   "execution_count": null,
   "id": "1c52a0fc",
   "metadata": {},
   "outputs": [],
   "source": [
    "filename='IndiaMartLead'\n",
    "df1.to_excel(filename)"
   ]
  },
  {
   "cell_type": "code",
   "execution_count": 36,
   "id": "7b17fd30",
   "metadata": {},
   "outputs": [],
   "source": [
    "driver.quit()"
   ]
  }
 ],
 "metadata": {
  "kernelspec": {
   "display_name": "Python 3 (ipykernel)",
   "language": "python",
   "name": "python3"
  },
  "language_info": {
   "codemirror_mode": {
    "name": "ipython",
    "version": 3
   },
   "file_extension": ".py",
   "mimetype": "text/x-python",
   "name": "python",
   "nbconvert_exporter": "python",
   "pygments_lexer": "ipython3",
   "version": "3.10.5"
  }
 },
 "nbformat": 4,
 "nbformat_minor": 5
}
